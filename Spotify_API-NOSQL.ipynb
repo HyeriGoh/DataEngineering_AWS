{
 "cells": [
  {
   "cell_type": "markdown",
   "metadata": {},
   "source": [
    "### Spotify API"
   ]
  },
  {
   "cell_type": "code",
   "execution_count": 1,
   "metadata": {},
   "outputs": [],
   "source": [
    "import requests\n",
    "import json\n",
    "import logging\n",
    "import base64\n",
    "import pymysql\n",
    "import csv\n",
    "\n",
    "import boto3\n",
    "import os"
   ]
  },
  {
   "cell_type": "markdown",
   "metadata": {},
   "source": [
    "### Connecting to Amazon RDS"
   ]
  },
  {
   "cell_type": "code",
   "execution_count": 2,
   "metadata": {},
   "outputs": [
    {
     "name": "stdout",
     "output_type": "stream",
     "text": [
      "(('artist_genres',), ('artists',), ('people',))\n"
     ]
    }
   ],
   "source": [
    "## mysql -h testdb-spotify.c1ljsqo7birx.us-west-2.rds.amazonaws.com -P 3306 -D production -u admin -p\n",
    "host=\"testdb-spotify.c1ljsqo7birx.us-west-2.rds.amazonaws.com\"\n",
    "port=3306\n",
    "username=\"admin\"\n",
    "password=\"Wlqtnsdl11061310*\"\n",
    "database=\"production\"\n",
    "\n",
    "connection=pymysql.connect(host=host, user=username, password=password, database=database, port=port, use_unicode=True, charset=\"utf8\")\n",
    "cursor=connection.cursor()\n",
    "\n",
    "cursor.execute(\"SHOW TABLES\")\n",
    "print(cursor.fetchall()) "
   ]
  },
  {
   "cell_type": "markdown",
   "metadata": {},
   "source": [
    "### Connecting to Amazon DynamoDB"
   ]
  },
  {
   "cell_type": "code",
   "execution_count": 3,
   "metadata": {},
   "outputs": [],
   "source": [
    "dynamodb = boto3.resource('dynamodb', region_name='us-west-2', endpoint_url=\"http://dynamodb.us-west-2.amazonaws.com\")\n",
    "table = dynamodb.Table('top_tracks')"
   ]
  },
  {
   "cell_type": "markdown",
   "metadata": {},
   "source": [
    "### Access to Spotify API"
   ]
  },
  {
   "cell_type": "code",
   "execution_count": 4,
   "metadata": {},
   "outputs": [
    {
     "name": "stdout",
     "output_type": "stream",
     "text": [
      "200\n",
      "\n",
      "<!DOCTYPE html>\n",
      "<html id=\"app\" lang=\"en\" dir=\"ltr\" ng-csp ng-strict-di>\n",
      "<head>\n",
      "  <meta charset=\"utf-8\">\n",
      "  <title ng-bind=\"(&#39;loginTitle&#39; | localize) + &#39; - Spotify&#39;\">Spotify</title>\n",
      "  <meta name=\"viewport\" content=\"width=device-width, initial-scale=1.0, maximum-scale=1.0, user-scalable=no\">\n",
      "  <base href=\"/\">\n",
      "  <link rel=\"icon\" href=\"https://accounts.scdn.co/sso/images/favicon.ace4d8543bbb017893402a1e9d1ac1fa.ico\">\n",
      "  <link href=\"https://accounts.scdn.co/sso/css/index.0da5aa431d52c8b0c32d.css\" media=\"screen\" rel=\"stylesheet\">\n",
      "\n",
      "  <script defer src=\"https://accounts.scdn.co/sso/js/index.0da5aa431d52c8b0c32d.js\" sp-bootstrap></script>\n",
      "  <meta ng-non-bindable sp-bootstrap-data='{\"phoneFeatureEnabled\":false,\"previewEnabled\":false,\"user\":false,\"tpaState\":\"AQBsI+mM4+LcaPEQoJmcrGrMSLgRtNds3Ap53/NCGmnG8wHTSZglLpXGGx1L3lVKOCeYkeJrTqCi1MJsXMA+iEBsdsV0uXyq76qZO7SshWlzTshULn/1KssADrgZDnZmKsPpmLMy1Gt6HAOAAvlvQ9deLRhn/1SP5cIWakJhG2nRo1y1WlHd9DE0kN9VVqqWczYxneScF7Oh3C4+JEtnX858NeaCnyYANOPaez7rqCq5g6BSpqw7nIgu7VdwoLtocFYYfwhrFOcMRySSKboONpInbBxpiu7kex4xaOzgsw69jilYciS7bFoTjil4S/4Ycg/iDCNHETpTa4mYeBXkunuKoDya4tWXrONQ576MhUp4KNPI6VvR5atGuUi54jmltsEfjQ==\",\"BON\":[\"0\",\"0\",-2103328731]}'>\n",
      "</head>\n",
      "<body ng-controller=\"LoginController\">\n",
      "  <div ng-include=\"template\"></div>\n",
      "</body>\n",
      "</html>\n",
      "\n",
      "https://accounts.spotify.com/authorize?client_id=b03942aa01eb477cacb26e9bf8d3da58&response_type=code&redirect_uri=http://localhost:8888\n"
     ]
    }
   ],
   "source": [
    "client_id=\"b03942aa01eb477cacb26e9bf8d3da58\"\n",
    "response_type=\"code\"\n",
    "redirect_uri=\"http://localhost:8888\"\n",
    "#scope=\"user-read-private%20user-read-email\"\n",
    "endpoint1=\"https://accounts.spotify.com/authorize?client_id={}&response_type={}&redirect_uri={}\".format(client_id, response_type, redirect_uri)\n",
    "#endpoint1=\"https://accounts.spotify.com/authorize?client_id={}&response_type={}&redirect_uri={}&scope={}\".format(client_id, response_type, redirect_uri, scope)\n",
    "res1=requests.get(endpoint1)\n",
    "\n",
    "print(res1.status_code)\n",
    "print(res1.text)\n",
    "print(endpoint1)"
   ]
  },
  {
   "cell_type": "code",
   "execution_count": 5,
   "metadata": {},
   "outputs": [
    {
     "name": "stdout",
     "output_type": "stream",
     "text": [
      "200\n",
      "{\"access_token\":\"BQBJImq_mo1P_tvHYTk84pK5JdAM-JWxdOz7vQ6hykipyT4obqLNw054l1WGu66K77Y9ByB3WcB7JJ8VDq_S7qWZjqqS0-xHlwf6EYrXbfayki20HaoOROTc9b9pEfW1KmX3ZPspUr3xtHidWjOmmYp3sRyTcfEm0HvB2w\",\"token_type\":\"Bearer\",\"expires_in\":3600,\"refresh_token\":\"AQCjtLj48bgF_QDlxbJzJHAm2M76tahQK1tZTqycLgIOKZjiyVS99C8Rgd0HvGmiHUMki4dsRRROMZ5myYUsjH-MgdvyBLXZuB3X12cSKE0pR3Bd1-ZSipvbG3SEtX0PXts\"}\n"
     ]
    }
   ],
   "source": [
    "data={\n",
    "    \"grant_type\":\"authorization_code\",\n",
    "    \"code\":\"AQAeqUxfNQDmDrlV_I8-COOA3Vv9oIm93wIp2nt1-IIExO4prbTX9f-eBGBPt2cX-2KeYmLdIiVGHyxfcnvlCmioIa71lIFWvo_tvEpbzUudoas_0Q-l8xEbqasjpK-lVBss9jfROvr7yluNvYQHPyMzXpzxDFdEug\",\n",
    "    \"redirect_uri\":\"http://localhost:8888\"\n",
    "}\n",
    "\n",
    "\n",
    "client_id=\"b03942aa01eb477cacb26e9bf8d3da58\"\n",
    "client_secret=\"fd61807827344135a98ec16305e34bb2\"\n",
    "encoded=base64.b64encode('{}:{}'.format(client_id, client_secret).encode('utf-8')).decode('ascii')\n",
    "headers={\"Authorization\":\"Basic {}\".format(encoded)}\n",
    "\n",
    "endpoint2=\"https://accounts.spotify.com/api/token\"\n",
    "\n",
    "res2=requests.post(endpoint2, data=data, headers=headers)\n",
    "\n",
    "print(res2.status_code)\n",
    "print(res2.text) #type=string"
   ]
  },
  {
   "cell_type": "code",
   "execution_count": 6,
   "metadata": {},
   "outputs": [
    {
     "name": "stdout",
     "output_type": "stream",
     "text": [
      "{'access_token': 'BQBJImq_mo1P_tvHYTk84pK5JdAM-JWxdOz7vQ6hykipyT4obqLNw054l1WGu66K77Y9ByB3WcB7JJ8VDq_S7qWZjqqS0-xHlwf6EYrXbfayki20HaoOROTc9b9pEfW1KmX3ZPspUr3xtHidWjOmmYp3sRyTcfEm0HvB2w', 'token_type': 'Bearer', 'expires_in': 3600, 'refresh_token': 'AQCjtLj48bgF_QDlxbJzJHAm2M76tahQK1tZTqycLgIOKZjiyVS99C8Rgd0HvGmiHUMki4dsRRROMZ5myYUsjH-MgdvyBLXZuB3X12cSKE0pR3Bd1-ZSipvbG3SEtX0PXts'}\n"
     ]
    }
   ],
   "source": [
    "print(res2.json())\n",
    "json.loads(res2.text) #type=dict\n",
    "\n",
    "access_token=json.loads(res2.text)['access_token']\n",
    "headers2={\"Authorization\":\"Bearer {}\".format(access_token)}"
   ]
  },
  {
   "cell_type": "markdown",
   "metadata": {},
   "source": [
    "### Get 'artist_id' from artists table in RDS and Retrieve data of top tracks"
   ]
  },
  {
   "cell_type": "code",
   "execution_count": 14,
   "metadata": {},
   "outputs": [],
   "source": [
    "cursor.execute('SELECT id FROM artists LIMIT 3')\n",
    "for (artist_id, ) in cursor.fetchall():\n",
    "    URL = \"https://api.spotify.com/v1/artists/{}/top-tracks\".format(artist_id)\n",
    "    params = {\n",
    "        'country' : 'US'\n",
    "    }\n",
    "    \n",
    "    \n",
    "    r = requests.get(URL, params=params, headers=headers2)\n",
    "    \n",
    "    raw = json.loads(r.text)\n",
    "    \n",
    "    for track in raw['tracks']:\n",
    "        data = {\n",
    "            'artist_id' : artist_id\n",
    "        }\n",
    "        \n",
    "        data.update(track)\n",
    "        table.put_item(Item = data)"
   ]
  },
  {
   "cell_type": "markdown",
   "metadata": {},
   "source": [
    "### If error \"Unable to locate the credential\" shows up,\n",
    "#### - Run [\\$ aws configure list] or [C:/> aws configure list] to see the summary of configure information\n",
    "#### - Under the .aws/config, there should be default information of 'aws_access_key' 'aws_secret_access_key' 'region'\n",
    "#### - If not, check the .aws/credentials. There should be default information of 'aws_access_key' and 'aws_secret_access_key'\n",
    "#### - If .aws/credentials includes default information of 'aws_access_key' and 'aws_secret_access_key', run below commands\n",
    "####   [set AWS_ACCESS_KEY = 'your aws_access_key']\n",
    "####   [set AWS_SECRET_ACCESS_KEY = 'your aws_secret_access_key']"
   ]
  },
  {
   "cell_type": "markdown",
   "metadata": {},
   "source": [
    "### Retrieve the data from DynamoDB"
   ]
  },
  {
   "cell_type": "code",
   "execution_count": 23,
   "metadata": {},
   "outputs": [
    {
     "name": "stdout",
     "output_type": "stream",
     "text": [
      "{'is_playable': True, 'duration_ms': Decimal('158600'), 'external_ids': {'isrc': 'US4N80500094'}, 'uri': 'spotify:track:1dlgaGdQXmsYKMRuewIZkF', 'name': 'Miss Alissa', 'album': {'total_tracks': Decimal('15'), 'images': [{'width': Decimal('640'), 'url': 'https://i.scdn.co/image/ab67616d0000b27384887df9c8e604955f804cda', 'height': Decimal('640')}, {'width': Decimal('300'), 'url': 'https://i.scdn.co/image/ab67616d00001e0284887df9c8e604955f804cda', 'height': Decimal('300')}, {'width': Decimal('64'), 'url': 'https://i.scdn.co/image/ab67616d0000485184887df9c8e604955f804cda', 'height': Decimal('64')}], 'artists': [{'name': 'Eagles Of Death Metal', 'href': 'https://api.spotify.com/v1/artists/02uYdhMhCgdB49hZlYRm9o', 'id': '02uYdhMhCgdB49hZlYRm9o', 'type': 'artist', 'external_urls': {'spotify': 'https://open.spotify.com/artist/02uYdhMhCgdB49hZlYRm9o'}, 'uri': 'spotify:artist:02uYdhMhCgdB49hZlYRm9o'}], 'release_date': '2004', 'name': 'Peace Love Death Metal', 'album_type': 'album', 'release_date_precision': 'year', 'href': 'https://api.spotify.com/v1/albums/1lFroSL8x6KELMkLOS07DT', 'id': '1lFroSL8x6KELMkLOS07DT', 'type': 'album', 'external_urls': {'spotify': 'https://open.spotify.com/album/1lFroSL8x6KELMkLOS07DT'}, 'uri': 'spotify:album:1lFroSL8x6KELMkLOS07DT'}, 'popularity': Decimal('49'), 'artists': [{'name': 'Eagles Of Death Metal', 'href': 'https://api.spotify.com/v1/artists/02uYdhMhCgdB49hZlYRm9o', 'id': '02uYdhMhCgdB49hZlYRm9o', 'type': 'artist', 'external_urls': {'spotify': 'https://open.spotify.com/artist/02uYdhMhCgdB49hZlYRm9o'}, 'uri': 'spotify:artist:02uYdhMhCgdB49hZlYRm9o'}], 'disc_number': Decimal('1'), 'href': 'https://api.spotify.com/v1/tracks/1dlgaGdQXmsYKMRuewIZkF', 'track_number': Decimal('15'), 'external_urls': {'spotify': 'https://open.spotify.com/track/1dlgaGdQXmsYKMRuewIZkF'}, 'artist_id': '02uYdhMhCgdB49hZlYRm9o', 'preview_url': 'https://p.scdn.co/mp3-preview/dca0e483c0f41a8dd18a14b908e39a3142903cec?cid=b03942aa01eb477cacb26e9bf8d3da58', 'is_local': False, 'id': '1dlgaGdQXmsYKMRuewIZkF', 'explicit': False, 'type': 'track'}\n"
     ]
    }
   ],
   "source": [
    "response = table.get_item(\n",
    "\n",
    "Key ={\n",
    "    \"artist_id\" : '02uYdhMhCgdB49hZlYRm9o',\n",
    "    'id' : '1dlgaGdQXmsYKMRuewIZkF'\n",
    "}   \n",
    ")\n",
    "\n",
    "print(response['Item'])\n"
   ]
  },
  {
   "cell_type": "markdown",
   "metadata": {},
   "source": [
    "### How to Filter : Querying and Scanning\n",
    "#### - Querying : use primary key\n",
    "#### - Scanning : no need of primary key"
   ]
  },
  {
   "cell_type": "code",
   "execution_count": 24,
   "metadata": {},
   "outputs": [],
   "source": [
    "from boto3.dynamodb.conditions import Key, Attr"
   ]
  },
  {
   "cell_type": "code",
   "execution_count": 29,
   "metadata": {},
   "outputs": [
    {
     "name": "stdout",
     "output_type": "stream",
     "text": [
      "{'Items': [], 'Count': 0, 'ScannedCount': 10, 'ResponseMetadata': {'RequestId': 'MF81T1GMTDNFBIU9KKV52TSMVRVV4KQNSO5AEMVJF66Q9ASUAAJG', 'HTTPStatusCode': 200, 'HTTPHeaders': {'x-amzn-requestid': 'MF81T1GMTDNFBIU9KKV52TSMVRVV4KQNSO5AEMVJF66Q9ASUAAJG', 'x-amz-crc32': '2380096782', 'content-type': 'application/x-amz-json-1.0', 'content-length': '40', 'date': 'Mon, 11 Oct 2021 18:23:59 GMT'}, 'RetryAttempts': 0}}\n"
     ]
    }
   ],
   "source": [
    "response2 = table.query(\n",
    "KeyConditionExpression=Key('artist_id').eq('02uYdhMhCgdB49hZlYRm9o'),\n",
    "FilterExpression = Attr('popularity').gt(70)\n",
    ")\n",
    "\n",
    "print(response2) #no result is found"
   ]
  },
  {
   "cell_type": "code",
   "execution_count": 34,
   "metadata": {},
   "outputs": [
    {
     "name": "stdout",
     "output_type": "stream",
     "text": [
      "3\n"
     ]
    }
   ],
   "source": [
    "response3 = table.query(\n",
    "KeyConditionExpression=Key('artist_id').eq('02uYdhMhCgdB49hZlYRm9o'),\n",
    "FilterExpression = Attr('popularity').gt(50)\n",
    ")\n",
    "\n",
    "print(len(response3['Items']))"
   ]
  },
  {
   "cell_type": "code",
   "execution_count": 39,
   "metadata": {},
   "outputs": [
    {
     "name": "stdout",
     "output_type": "stream",
     "text": [
      "23\n"
     ]
    }
   ],
   "source": [
    "response4 = table.scan(\n",
    "FilterExpression = Attr('popularity').gt(50)\n",
    ")\n",
    "\n",
    "print(len(response4['Items']))"
   ]
  }
 ],
 "metadata": {
  "kernelspec": {
   "display_name": "Python 3",
   "language": "python",
   "name": "python3"
  },
  "language_info": {
   "codemirror_mode": {
    "name": "ipython",
    "version": 3
   },
   "file_extension": ".py",
   "mimetype": "text/x-python",
   "name": "python",
   "nbconvert_exporter": "python",
   "pygments_lexer": "ipython3",
   "version": "3.7.6"
  }
 },
 "nbformat": 4,
 "nbformat_minor": 4
}
