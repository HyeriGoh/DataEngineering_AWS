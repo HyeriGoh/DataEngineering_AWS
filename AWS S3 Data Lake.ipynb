{
 "cells": [
  {
   "cell_type": "code",
   "execution_count": 1,
   "metadata": {},
   "outputs": [],
   "source": [
    "import sys\n",
    "import logging\n",
    "import requests\n",
    "import base64\n",
    "import json\n",
    "import pymysql\n",
    "import csv\n",
    "import boto3\n",
    "from datetime import datetime\n",
    "import pandas as pd\n",
    "import jsonpath"
   ]
  },
  {
   "cell_type": "markdown",
   "metadata": {},
   "source": [
    "### Connecting to Amazon RDS"
   ]
  },
  {
   "cell_type": "code",
   "execution_count": 2,
   "metadata": {},
   "outputs": [],
   "source": [
    "## mysql -h testdb-spotify.c1ljsqo7birx.us-west-2.rds.amazonaws.com -P 3306 -D production -u admin -p\n",
    "host=\"testdb-spotify.c1ljsqo7birx.us-west-2.rds.amazonaws.com\"\n",
    "port=3306\n",
    "username=\"admin\"\n",
    "password=\"Wlqtnsdl11061310*\"\n",
    "database=\"production\"\n",
    "\n",
    "connection=pymysql.connect(host=host, user=username, password=password, database=database, port=port, use_unicode=True, charset=\"utf8\")\n",
    "cursor=connection.cursor()  "
   ]
  },
  {
   "cell_type": "markdown",
   "metadata": {},
   "source": [
    "### Funtion to add rows in a table"
   ]
  },
  {
   "cell_type": "code",
   "execution_count": 3,
   "metadata": {},
   "outputs": [],
   "source": [
    "# query = \"\"\"\n",
    "#INSERT INTO artists (id, name, follwers, popularity, url, image_url)\n",
    "#VALUES ('{}', '{}', '{}', '{}', '{}', '{}')\n",
    "#ON DUPILICATE KEY UPDATE id='{}', name='{}', follwers='{}', popularity='{}', url='{}', image_url='{}'\n",
    "#\"\"\".format(artist['id'], artist['name'], artist['followers'], artist['popularity'], artist['url'], artist['image_url'],\n",
    "#           artist['id'], artist['name'], artist['followers'], artist['popularity'], artist['url'], artist['image_url'])\n",
    "\n",
    "\n",
    "def insert_row(cursor, data, table_name):\n",
    "    \n",
    "    column_name = ', '.join(data.keys())\n",
    "    print('columns:', column_name)\n",
    "    \n",
    "    placeholders = ', '.join(['%s'] * len(data)) #len(data) = the number of columns\n",
    "    #%s, %s, %s, %s, %s, %s\n",
    "\n",
    "    key_placeholders = ', '.join(['{}=%s'.format(k) for k in data.keys()])\n",
    "    #id=%s, name=%s, followers=%s, popularity=%s, url=%s, image_url=%s\n",
    "    \n",
    "    query = \"INSERT INTO %s (%s) VALUES (%s) ON DUPLICATE KEY UPDATE %s\" % (table_name, column_name, placeholders, key_placeholders)\n",
    "    cursor.execute(query, list(data.values())*2)"
   ]
  },
  {
   "cell_type": "markdown",
   "metadata": {},
   "source": [
    "### Access to Spotify API"
   ]
  },
  {
   "cell_type": "code",
   "execution_count": 4,
   "metadata": {},
   "outputs": [
    {
     "name": "stdout",
     "output_type": "stream",
     "text": [
      "200\n",
      "\n",
      "<!DOCTYPE html>\n",
      "<html id=\"app\" lang=\"en\" dir=\"ltr\" ng-csp ng-strict-di>\n",
      "<head>\n",
      "  <meta charset=\"utf-8\">\n",
      "  <title ng-bind=\"(&#39;loginTitle&#39; | localize) + &#39; - Spotify&#39;\">Spotify</title>\n",
      "  <meta name=\"viewport\" content=\"width=device-width, initial-scale=1.0, maximum-scale=1.0, user-scalable=no\">\n",
      "  <base href=\"/\">\n",
      "  <link rel=\"icon\" href=\"https://accounts.scdn.co/sso/images/favicon.ace4d8543bbb017893402a1e9d1ac1fa.ico\">\n",
      "  <link href=\"https://accounts.scdn.co/sso/css/index.3ff124dfd72bdb0a5a3d.css\" media=\"screen\" rel=\"stylesheet\">\n",
      "\n",
      "  <script defer src=\"https://accounts.scdn.co/sso/js/index.3ff124dfd72bdb0a5a3d.js\" sp-bootstrap></script>\n",
      "  <meta ng-non-bindable sp-bootstrap-data='{\"phoneFeatureEnabled\":false,\"previewEnabled\":false,\"user\":false,\"tpaState\":\"AQCbRWo9g6O/pSIwVdQdkSm9aECbAf5eJNhp/ewAahY26XTGdfxJFdxGm7tx371E/nO8rDHvE8Gr+VTxNig+3vs85FJEiNxCDy4Jh64w7EvkjC0zd5v44cHtY0YuAwHUvfd5busiGEn/kkKVVFB9Bsr8QkmtcsN6ZsKIjpMsJK5vpcP9pgHQRAfJ7Yw3Mb57VskggudXLlWpXmCFgP6hY5ZF0/8JCUwOcj5dBXFJtZMBCPcDvoK4FxamzQKRYtW3f5dxNS/85FYbG6tZkFIhsLpKabUQF+Lth/vEAhyYvdZm+xcih4cPtih0PcOmmEhlkWuvsea8EP5PXmviF02gyAjn2LVvyeHfNF+jzIiCQnWKfgJc0aDKK9UECnoCV/fSMaRhjA==\",\"BON\":[\"0\",\"0\",1506674164]}'>\n",
      "</head>\n",
      "<body ng-controller=\"LoginController\">\n",
      "  <div ng-include=\"template\"></div>\n",
      "</body>\n",
      "</html>\n",
      "\n",
      "https://accounts.spotify.com/authorize?client_id=b03942aa01eb477cacb26e9bf8d3da58&response_type=code&redirect_uri=http://localhost:8888\n"
     ]
    }
   ],
   "source": [
    "client_id=\"b03942aa01eb477cacb26e9bf8d3da58\"\n",
    "response_type=\"code\"\n",
    "redirect_uri=\"http://localhost:8888\"\n",
    "#scope=\"user-read-private%20user-read-email\"\n",
    "endpoint1=\"https://accounts.spotify.com/authorize?client_id={}&response_type={}&redirect_uri={}\".format(client_id, response_type, redirect_uri)\n",
    "#endpoint1=\"https://accounts.spotify.com/authorize?client_id={}&response_type={}&redirect_uri={}&scope={}\".format(client_id, response_type, redirect_uri, scope)\n",
    "res1=requests.get(endpoint1)\n",
    "\n",
    "print(res1.status_code)\n",
    "print(res1.text)\n",
    "print(endpoint1)"
   ]
  },
  {
   "cell_type": "code",
   "execution_count": 5,
   "metadata": {},
   "outputs": [
    {
     "name": "stdout",
     "output_type": "stream",
     "text": [
      "200\n",
      "{\"access_token\":\"BQA9xEco3CPP5btITGGRervheNV_4J0vN_CB_WDq6B6ot84KtvCVHXXH45j6-EYTfxT8xu1MVj9StGnjKdb11czSMZkz5Nj4UHzxoAgIOMjdtelxcP18KpGeFWLxCzqGNOpp-EvlQsvaxMp88XuoBUA5jkQOxyit31eRHg\",\"token_type\":\"Bearer\",\"expires_in\":3600,\"refresh_token\":\"AQCxoLq4q6MH84-uVQJzkejn0S4UyHSkB6yxDV1QRcFQgHXNQ2pF3gMIbWsD1YvbyG4Ux8uCK2HRrJCAoxMDiQxcbshnpoQ1IBcN3VeN-u0Y6FtxBTRPRD7GAKl_0gjrYMs\"}\n"
     ]
    }
   ],
   "source": [
    "data={\n",
    "    \"grant_type\":\"authorization_code\",\n",
    "    \"code\":\"AQDEo4kcMCU2cgS3-tX1LsI-9koCdvW7PJ3UYfsUz9gnAPg-eVKwdrYlCEGc9GHJBhidvIsRuhFsfHPwe458iqbd2LuZNtQLXxrSr_3SO_RPN8j0OMLBVxugLofZHXIOZs_NpiisqlO0Cduiu7RvcfT-fWFt9kGuKA\",\n",
    "    \"redirect_uri\":\"http://localhost:8888\"\n",
    "}\n",
    "\n",
    "\n",
    "client_id=\"b03942aa01eb477cacb26e9bf8d3da58\"\n",
    "client_secret=\"fd61807827344135a98ec16305e34bb2\"\n",
    "encoded=base64.b64encode('{}:{}'.format(client_id, client_secret).encode('utf-8')).decode('ascii')\n",
    "headers={\"Authorization\":\"Basic {}\".format(encoded)}\n",
    "\n",
    "endpoint2=\"https://accounts.spotify.com/api/token\"\n",
    "\n",
    "res2=requests.post(endpoint2, data=data, headers=headers)\n",
    "\n",
    "print(res2.status_code)\n",
    "print(res2.text) #type=string"
   ]
  },
  {
   "cell_type": "code",
   "execution_count": 7,
   "metadata": {},
   "outputs": [
    {
     "name": "stdout",
     "output_type": "stream",
     "text": [
      "{'access_token': 'BQA9xEco3CPP5btITGGRervheNV_4J0vN_CB_WDq6B6ot84KtvCVHXXH45j6-EYTfxT8xu1MVj9StGnjKdb11czSMZkz5Nj4UHzxoAgIOMjdtelxcP18KpGeFWLxCzqGNOpp-EvlQsvaxMp88XuoBUA5jkQOxyit31eRHg', 'token_type': 'Bearer', 'expires_in': 3600, 'refresh_token': 'AQCxoLq4q6MH84-uVQJzkejn0S4UyHSkB6yxDV1QRcFQgHXNQ2pF3gMIbWsD1YvbyG4Ux8uCK2HRrJCAoxMDiQxcbshnpoQ1IBcN3VeN-u0Y6FtxBTRPRD7GAKl_0gjrYMs'}\n"
     ]
    }
   ],
   "source": [
    "print(res2.json())\n",
    "json.loads(res2.text) #type=dict\n",
    "\n",
    "access_token=json.loads(res2.text)['access_token']\n",
    "headers2={\"Authorization\":\"Bearer {}\".format(access_token)}"
   ]
  },
  {
   "cell_type": "markdown",
   "metadata": {},
   "source": [
    "### Creating file 'top-tracks' (.json or .parquet)"
   ]
  },
  {
   "cell_type": "code",
   "execution_count": 8,
   "metadata": {},
   "outputs": [],
   "source": [
    "cursor.execute(\"SELECT id FROM artists limit 10\")\n",
    "top_track_keys={'id': 'id', 'name':'name', 'poularity':'popularity', 'external_url':'external_urls.spotify'}\n",
    "top_tracks = []\n",
    "\n",
    "for (id, ) in cursor.fetchall():\n",
    "    URL = 'https://api.spotify.com/v1/artists/{}/top-tracks'.format(id)\n",
    "    params = {'country':'US'}\n",
    "    r = requests.get(URL, params=params, headers=headers2)\n",
    "    raw = json.loads(r.text)\n",
    "    \n",
    "    for i in raw['tracks']:\n",
    "        top_track = {}\n",
    "        for k, v in top_track_keys.items():\n",
    "            top_track.update({k: jsonpath.jsonpath(i, v)})\n",
    "            top_track.update({'artist_id': id})\n",
    "            top_tracks.append(top_track)\n",
    "\n",
    "track_ids = [track['id'][0] for track in top_tracks]\n",
    "\n",
    "top_tracks = pd.DataFrame(top_tracks)\n",
    "top_tracks.to_parquet('top-tracks.parquet', engine='pyarrow', compression='snappy')\n",
    "\n",
    "\n",
    "# with open('top_tracks.json', 'w') as f:\n",
    "#     for track in top_tracks:\n",
    "#         json.dump(track, f)\n",
    "#         f.write(os.linesp)\n",
    "        \n",
    "        \n",
    "\n",
    "dt = datetime.utcnow().strftime(\"%Y-%m-%d\")"
   ]
  },
  {
   "cell_type": "markdown",
   "metadata": {},
   "source": [
    "### Storing 'top-tracks.parquet' in S3"
   ]
  },
  {
   "cell_type": "code",
   "execution_count": 9,
   "metadata": {},
   "outputs": [
    {
     "data": {
      "text/plain": [
       "{'ResponseMetadata': {'RequestId': 'EHSBGQZN1Y6N6JH6',\n",
       "  'HostId': 'AoX2AVBNGiDRfHoMmx2ySaSJ1fg4OgtFKueqmt73GNzKgFbOF2FJP8M2to6O5o7Cyx5dm1AWXFg=',\n",
       "  'HTTPStatusCode': 200,\n",
       "  'HTTPHeaders': {'x-amz-id-2': 'AoX2AVBNGiDRfHoMmx2ySaSJ1fg4OgtFKueqmt73GNzKgFbOF2FJP8M2to6O5o7Cyx5dm1AWXFg=',\n",
       "   'x-amz-request-id': 'EHSBGQZN1Y6N6JH6',\n",
       "   'date': 'Sat, 23 Oct 2021 23:42:10 GMT',\n",
       "   'etag': '\"d51187d8acb836fba0994b6271fd2217\"',\n",
       "   'server': 'AmazonS3',\n",
       "   'content-length': '0'},\n",
       "  'RetryAttempts': 0},\n",
       " 'ETag': '\"d51187d8acb836fba0994b6271fd2217\"'}"
      ]
     },
     "execution_count": 9,
     "metadata": {},
     "output_type": "execute_result"
    }
   ],
   "source": [
    "s3 = boto3.resource('s3')\n",
    "object = s3.Object('top-tracks-audio-feature', 'top-tracks/dt={}/top-tracks.parquet'.format(dt))\n",
    "data = open('top-tracks.parquet', 'rb')\n",
    "object.put(Body=data)"
   ]
  },
  {
   "cell_type": "markdown",
   "metadata": {},
   "source": [
    "### Creating file 'audio-features.parquet'"
   ]
  },
  {
   "cell_type": "code",
   "execution_count": 10,
   "metadata": {},
   "outputs": [
    {
     "name": "stdout",
     "output_type": "stream",
     "text": [
      "['2nMeu6UenVvwUktBCpLMK9', '2nMeu6UenVvwUktBCpLMK9', '2nMeu6UenVvwUktBCpLMK9', '2nMeu6UenVvwUktBCpLMK9', '1NZs6n6hl8UuMaX0UC0YTz', '1NZs6n6hl8UuMaX0UC0YTz', '1NZs6n6hl8UuMaX0UC0YTz', '1NZs6n6hl8UuMaX0UC0YTz', '6PUIzlqotEmPuBfjbwYWOB', '6PUIzlqotEmPuBfjbwYWOB']\n"
     ]
    }
   ],
   "source": [
    "print(track_ids[:10])\n",
    "tracks_batch = [track_ids[i:i+100] for i in range(0, len(track_ids), 100)]\n",
    "#print(tracks_batch[0])\n",
    "\n",
    "audio_features = []\n",
    "for batch in tracks_batch:\n",
    "    \n",
    "    ids=','.join(batch)\n",
    "    URL = 'https://api.spotify.com/v1/audio-features/?ids={}'.format(ids)\n",
    "    r = requests.get(URL, headers=headers2)\n",
    "    raw = json.loads(r.text)\n",
    "    audio_features.extend(raw['audio_features'])\n",
    "    \n",
    "audio_features = pd.DataFrame(audio_features)\n",
    "audio_features.to_parquet('autio_features.parquet', engine='pyarrow', compression='snappy')"
   ]
  },
  {
   "cell_type": "markdown",
   "metadata": {},
   "source": [
    "### Storing 'audio-features.parquet' in S3"
   ]
  },
  {
   "cell_type": "code",
   "execution_count": 11,
   "metadata": {},
   "outputs": [
    {
     "data": {
      "text/plain": [
       "{'ResponseMetadata': {'RequestId': 'W1QBGWNGDABYW6SP',\n",
       "  'HostId': '7ViNz5/EHbvXQdRjlX5G9ZFvdk1+OtCVQZWGNBMofpf7Ed6F7KszknNM/58v0gSBTsFouYfITjU=',\n",
       "  'HTTPStatusCode': 200,\n",
       "  'HTTPHeaders': {'x-amz-id-2': '7ViNz5/EHbvXQdRjlX5G9ZFvdk1+OtCVQZWGNBMofpf7Ed6F7KszknNM/58v0gSBTsFouYfITjU=',\n",
       "   'x-amz-request-id': 'W1QBGWNGDABYW6SP',\n",
       "   'date': 'Sat, 23 Oct 2021 23:42:32 GMT',\n",
       "   'etag': '\"148965c31f0038285fa9ca936270e0a5\"',\n",
       "   'server': 'AmazonS3',\n",
       "   'content-length': '0'},\n",
       "  'RetryAttempts': 0},\n",
       " 'ETag': '\"148965c31f0038285fa9ca936270e0a5\"'}"
      ]
     },
     "execution_count": 11,
     "metadata": {},
     "output_type": "execute_result"
    }
   ],
   "source": [
    "s3 = boto3.resource('s3')\n",
    "object = s3.Object('top-tracks-audio-feature', 'audio-features/dt={}/top-tracks.parquet'.format(dt))\n",
    "data = open('autio_features.parquet', 'rb')\n",
    "object.put(Body=data)"
   ]
  },
  {
   "cell_type": "code",
   "execution_count": 14,
   "metadata": {},
   "outputs": [
    {
     "name": "stdout",
     "output_type": "stream",
     "text": [
      "                           id               artist_id  \\\n",
      "0    [2nMeu6UenVvwUktBCpLMK9]  00FQb4jTyendYWaN8pK0wa   \n",
      "1    [2nMeu6UenVvwUktBCpLMK9]  00FQb4jTyendYWaN8pK0wa   \n",
      "2    [2nMeu6UenVvwUktBCpLMK9]  00FQb4jTyendYWaN8pK0wa   \n",
      "3    [2nMeu6UenVvwUktBCpLMK9]  00FQb4jTyendYWaN8pK0wa   \n",
      "4    [1NZs6n6hl8UuMaX0UC0YTz]  00FQb4jTyendYWaN8pK0wa   \n",
      "..                        ...                     ...   \n",
      "395  [53yTYusPQJ1AApL1hi0Dnc]  0BvkDsjIUla7X0k6CSWh1I   \n",
      "396  [1YhFtqwcN138S6ng3MT1nN]  0BvkDsjIUla7X0k6CSWh1I   \n",
      "397  [1YhFtqwcN138S6ng3MT1nN]  0BvkDsjIUla7X0k6CSWh1I   \n",
      "398  [1YhFtqwcN138S6ng3MT1nN]  0BvkDsjIUla7X0k6CSWh1I   \n",
      "399  [1YhFtqwcN138S6ng3MT1nN]  0BvkDsjIUla7X0k6CSWh1I   \n",
      "\n",
      "                           name poularity  \\\n",
      "0         [Young And Beautiful]      [78]   \n",
      "1         [Young And Beautiful]      [78]   \n",
      "2         [Young And Beautiful]      [78]   \n",
      "3         [Young And Beautiful]      [78]   \n",
      "4               [Brooklyn Baby]      [77]   \n",
      "..                          ...       ...   \n",
      "395  [Sunrise, Sunburn, Sunset]      [66]   \n",
      "396      [Rain Is A Good Thing]      [66]   \n",
      "397      [Rain Is A Good Thing]      [66]   \n",
      "398      [Rain Is A Good Thing]      [66]   \n",
      "399      [Rain Is A Good Thing]      [66]   \n",
      "\n",
      "                                          external_url  \n",
      "0    [https://open.spotify.com/track/2nMeu6UenVvwUk...  \n",
      "1    [https://open.spotify.com/track/2nMeu6UenVvwUk...  \n",
      "2    [https://open.spotify.com/track/2nMeu6UenVvwUk...  \n",
      "3    [https://open.spotify.com/track/2nMeu6UenVvwUk...  \n",
      "4    [https://open.spotify.com/track/1NZs6n6hl8UuMa...  \n",
      "..                                                 ...  \n",
      "395  [https://open.spotify.com/track/53yTYusPQJ1AAp...  \n",
      "396  [https://open.spotify.com/track/1YhFtqwcN138S6...  \n",
      "397  [https://open.spotify.com/track/1YhFtqwcN138S6...  \n",
      "398  [https://open.spotify.com/track/1YhFtqwcN138S6...  \n",
      "399  [https://open.spotify.com/track/1YhFtqwcN138S6...  \n",
      "\n",
      "[400 rows x 5 columns]\n"
     ]
    }
   ],
   "source": [
    "print(top_tracks)"
   ]
  },
  {
   "cell_type": "code",
   "execution_count": 13,
   "metadata": {},
   "outputs": [
    {
     "name": "stdout",
     "output_type": "stream",
     "text": [
      "     danceability  energy  key  loudness  mode  speechiness  acousticness  \\\n",
      "0           0.324   0.416   11    -8.920     0       0.0368         0.262   \n",
      "1           0.324   0.416   11    -8.920     0       0.0368         0.262   \n",
      "2           0.324   0.416   11    -8.920     0       0.0368         0.262   \n",
      "3           0.324   0.416   11    -8.920     0       0.0368         0.262   \n",
      "4           0.404   0.664    1    -6.698     1       0.0407         0.542   \n",
      "..            ...     ...  ...       ...   ...          ...           ...   \n",
      "395         0.471   0.897    9    -2.270     1       0.0597         0.193   \n",
      "396         0.622   0.932   11    -4.660     0       0.0498         0.105   \n",
      "397         0.622   0.932   11    -4.660     0       0.0498         0.105   \n",
      "398         0.622   0.932   11    -4.660     0       0.0498         0.105   \n",
      "399         0.622   0.932   11    -4.660     0       0.0498         0.105   \n",
      "\n",
      "     instrumentalness  liveness  valence    tempo            type  \\\n",
      "0            0.000037     0.110   0.1510  113.986  audio_features   \n",
      "1            0.000037     0.110   0.1510  113.986  audio_features   \n",
      "2            0.000037     0.110   0.1510  113.986  audio_features   \n",
      "3            0.000037     0.110   0.1510  113.986  audio_features   \n",
      "4            0.004020     0.110   0.0949  107.747  audio_features   \n",
      "..                ...       ...      ...      ...             ...   \n",
      "395          0.000000     0.196   0.7190  159.958  audio_features   \n",
      "396          0.000002     0.328   0.5190  108.051  audio_features   \n",
      "397          0.000002     0.328   0.5190  108.051  audio_features   \n",
      "398          0.000002     0.328   0.5190  108.051  audio_features   \n",
      "399          0.000002     0.328   0.5190  108.051  audio_features   \n",
      "\n",
      "                         id                                   uri  \\\n",
      "0    2nMeu6UenVvwUktBCpLMK9  spotify:track:2nMeu6UenVvwUktBCpLMK9   \n",
      "1    2nMeu6UenVvwUktBCpLMK9  spotify:track:2nMeu6UenVvwUktBCpLMK9   \n",
      "2    2nMeu6UenVvwUktBCpLMK9  spotify:track:2nMeu6UenVvwUktBCpLMK9   \n",
      "3    2nMeu6UenVvwUktBCpLMK9  spotify:track:2nMeu6UenVvwUktBCpLMK9   \n",
      "4    1NZs6n6hl8UuMaX0UC0YTz  spotify:track:1NZs6n6hl8UuMaX0UC0YTz   \n",
      "..                      ...                                   ...   \n",
      "395  53yTYusPQJ1AApL1hi0Dnc  spotify:track:53yTYusPQJ1AApL1hi0Dnc   \n",
      "396  1YhFtqwcN138S6ng3MT1nN  spotify:track:1YhFtqwcN138S6ng3MT1nN   \n",
      "397  1YhFtqwcN138S6ng3MT1nN  spotify:track:1YhFtqwcN138S6ng3MT1nN   \n",
      "398  1YhFtqwcN138S6ng3MT1nN  spotify:track:1YhFtqwcN138S6ng3MT1nN   \n",
      "399  1YhFtqwcN138S6ng3MT1nN  spotify:track:1YhFtqwcN138S6ng3MT1nN   \n",
      "\n",
      "                                            track_href  \\\n",
      "0    https://api.spotify.com/v1/tracks/2nMeu6UenVvw...   \n",
      "1    https://api.spotify.com/v1/tracks/2nMeu6UenVvw...   \n",
      "2    https://api.spotify.com/v1/tracks/2nMeu6UenVvw...   \n",
      "3    https://api.spotify.com/v1/tracks/2nMeu6UenVvw...   \n",
      "4    https://api.spotify.com/v1/tracks/1NZs6n6hl8Uu...   \n",
      "..                                                 ...   \n",
      "395  https://api.spotify.com/v1/tracks/53yTYusPQJ1A...   \n",
      "396  https://api.spotify.com/v1/tracks/1YhFtqwcN138...   \n",
      "397  https://api.spotify.com/v1/tracks/1YhFtqwcN138...   \n",
      "398  https://api.spotify.com/v1/tracks/1YhFtqwcN138...   \n",
      "399  https://api.spotify.com/v1/tracks/1YhFtqwcN138...   \n",
      "\n",
      "                                          analysis_url  duration_ms  \\\n",
      "0    https://api.spotify.com/v1/audio-analysis/2nMe...       236053   \n",
      "1    https://api.spotify.com/v1/audio-analysis/2nMe...       236053   \n",
      "2    https://api.spotify.com/v1/audio-analysis/2nMe...       236053   \n",
      "3    https://api.spotify.com/v1/audio-analysis/2nMe...       236053   \n",
      "4    https://api.spotify.com/v1/audio-analysis/1NZs...       351640   \n",
      "..                                                 ...          ...   \n",
      "395  https://api.spotify.com/v1/audio-analysis/53yT...       216093   \n",
      "396  https://api.spotify.com/v1/audio-analysis/1YhF...       176160   \n",
      "397  https://api.spotify.com/v1/audio-analysis/1YhF...       176160   \n",
      "398  https://api.spotify.com/v1/audio-analysis/1YhF...       176160   \n",
      "399  https://api.spotify.com/v1/audio-analysis/1YhF...       176160   \n",
      "\n",
      "     time_signature  \n",
      "0                 4  \n",
      "1                 4  \n",
      "2                 4  \n",
      "3                 4  \n",
      "4                 4  \n",
      "..              ...  \n",
      "395               4  \n",
      "396               4  \n",
      "397               4  \n",
      "398               4  \n",
      "399               4  \n",
      "\n",
      "[400 rows x 18 columns]\n"
     ]
    }
   ],
   "source": [
    "print(audio_features)"
   ]
  }
 ],
 "metadata": {
  "kernelspec": {
   "display_name": "Python 3",
   "language": "python",
   "name": "python3"
  },
  "language_info": {
   "codemirror_mode": {
    "name": "ipython",
    "version": 3
   },
   "file_extension": ".py",
   "mimetype": "text/x-python",
   "name": "python",
   "nbconvert_exporter": "python",
   "pygments_lexer": "ipython3",
   "version": "3.7.6"
  }
 },
 "nbformat": 4,
 "nbformat_minor": 4
}
